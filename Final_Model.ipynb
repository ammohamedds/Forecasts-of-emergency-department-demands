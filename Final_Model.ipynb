{
  "nbformat": 4,
  "nbformat_minor": 0,
  "metadata": {
    "kernelspec": {
      "display_name": "Python 3",
      "language": "python",
      "name": "python3"
    },
    "language_info": {
      "codemirror_mode": {
        "name": "ipython",
        "version": 3
      },
      "file_extension": ".py",
      "mimetype": "text/x-python",
      "name": "python",
      "nbconvert_exporter": "python",
      "pygments_lexer": "ipython3",
      "version": "3.7.3"
    },
    "colab": {
      "name": "future_predictions.ipynb",
      "provenance": [],
      "collapsed_sections": []
    }
  },
  "cells": [
    {
      "cell_type": "code",
      "metadata": {
        "id": "KZcVYqxu5Hqq",
        "colab_type": "code",
        "colab": {}
      },
      "source": [
        "import pandas as pd\n",
        "import warnings\n",
        "import itertools\n",
        "import numpy as np\n",
        "import matplotlib.pyplot as plt\n",
        "warnings.filterwarnings(\"ignore\")\n",
        "plt.style.use('fivethirtyeight')\n",
        "import pandas as pd\n",
        "import statsmodels.api as sm\n",
        "import matplotlib\n",
        "import numpy as np\n",
        "from sklearn.metrics import mean_squared_error"
      ],
      "execution_count": 0,
      "outputs": []
    },
    {
      "cell_type": "code",
      "metadata": {
        "scrolled": true,
        "id": "VvPIG-VQ5Hqw",
        "colab_type": "code",
        "colab": {}
      },
      "source": [
        "df = pd.read_csv('cleaned_final.csv')"
      ],
      "execution_count": 0,
      "outputs": []
    },
    {
      "cell_type": "code",
      "metadata": {
        "id": "3dKiSAlClsBo",
        "colab_type": "code",
        "colab": {}
      },
      "source": [
        "#Function to implement the SARIMA for hospitals\n",
        "\n",
        "def myfunc(hospitalname):\n",
        "  hosp = df[['Month', hospitalname]]\n",
        "  hosp_sorted= hosp.sort_values('Month')\n",
        "  hosp_sorted = hosp_sorted.set_index('Month')\n",
        " \n",
        "  hosps= hosp_sorted\n",
        "\n",
        "  p = d = q = range(0, 2)\n",
        "\n",
        "  pdq = list(itertools.product(p, d, q))\n",
        "\n",
        "  # Generating and printing all different combinations of p, q and q for trend and Seasonal\n",
        "  seasonal_pdq = [(x[0], x[1], x[2], 12) for x in list(itertools.product(p, d, q))]\n",
        "\n",
        "\n",
        "  warnings.filterwarnings(\"ignore\") # specify to ignore warning messages\n",
        "  aicl=[]\n",
        "  paraml=[]\n",
        "  paramsl=[]\n",
        "\n",
        "  for param in pdq:\n",
        "      for param_seasonal in seasonal_pdq:\n",
        "          try:\n",
        "              mod = sm.tsa.statespace.SARIMAX(hosps,\n",
        "                                              order=param,\n",
        "                                              seasonal_order=param_seasonal,\n",
        "                                              enforce_stationarity=False,\n",
        "                                              enforce_invertibility=False)\n",
        "\n",
        "              results = mod.fit()\n",
        "\n",
        "              #print('ARIMA{}x{}12 - AIC:{}'.format(param, param_seasonal, results.aic))\n",
        "              aicl.append(results.aic)\n",
        "              paraml.append(param)\n",
        "              paramsl.append(param_seasonal)\n",
        "              #mix[1] = aicl + paraml\n",
        "          except:\n",
        "              continue\n",
        "  index=np.argmin(aicl)\n",
        "  paraml[index][2]\n",
        "  p1= paraml[index][0]\n",
        "  d1=paraml[index][1]\n",
        "  q1=paraml[index][2]\n",
        "  p2= paramsl[index][0]\n",
        "  d2= paramsl[index][1]\n",
        "  q2= paramsl[index][2]\n",
        "  mod_ARIMA = sm.tsa.statespace.SARIMAX(hosps,\n",
        "                                  order=(p1, d1, q1),\n",
        "                                  seasonal_order=(p2,d2,q2, 12),\n",
        "                                  enforce_stationarity=False,\n",
        "                                  enforce_invertibility=False)\n",
        "  results = mod_ARIMA.fit()\n",
        "  future_predictions = results.forecast(steps=32)\n",
        "  future_predictions\n",
        "\n",
        "\n",
        "  return future_predictions"
      ],
      "execution_count": 0,
      "outputs": []
    },
    {
      "cell_type": "code",
      "metadata": {
        "id": "7mUzWe0v66rc",
        "colab_type": "code",
        "colab": {}
      },
      "source": [
        "#Manually computing the first hospital as we wanted the Date Column\n",
        "\n",
        "function_values = myfunc('Ayr Hospital')\n",
        "pred_df = pd.Series.to_frame(function_values)\n",
        "df_1 = pd.DataFrame(pred_df).reset_index()\n",
        "df_1.columns = ['Date','Ayr Hospital']\n"
      ],
      "execution_count": 0,
      "outputs": []
    },
    {
      "cell_type": "code",
      "metadata": {
        "id": "sOfsZcDJ0jzh",
        "colab_type": "code",
        "colab": {}
      },
      "source": [
        "#Function to convert series into dataframe\n",
        "#This function will then convert the series output into dataframe without the Date Column\n",
        "\n",
        "def SeriesToFrame(df):\n",
        "  function_values = myfunc(df)\n",
        "  pred_df = pd.Series.to_frame(function_values)\n",
        "  new = pd.DataFrame(pred_df).reset_index()\n",
        "  new.columns = ['Date',df]\n",
        "  new.drop('Date',axis=1,inplace=True)\n",
        "  return new\n"
      ],
      "execution_count": 0,
      "outputs": []
    },
    {
      "cell_type": "code",
      "metadata": {
        "id": "MInReXG48EdD",
        "colab_type": "code",
        "colab": {}
      },
      "source": [
        "# Calling all the hospitals\n",
        "\n",
        "df_2 = SeriesToFrame('BARCALDINE HOSPITAL')\n",
        "df_3 = SeriesToFrame('BLACKALL HOSPITAL')\n",
        "df_4 = SeriesToFrame('Beaudesert Hospital')\n",
        "df_5 = SeriesToFrame('Biloela Hospital')\n",
        "df_6 = SeriesToFrame('Caloundra Hospital')\n",
        "df_7 = SeriesToFrame('Capricorn Coast Hospital')\n",
        "df_8 = SeriesToFrame('Charleville Hospital')\n",
        "df_9 = SeriesToFrame('Charters Towers Hospital')\n",
        "df_10 = SeriesToFrame('Cherbourg Hospital')\n",
        "df_11 = SeriesToFrame('Chinchilla Hospital')\n",
        "df_12 = SeriesToFrame('Cooktown Hospital')\n",
        "df_13 = SeriesToFrame('Cunnamulla Hospital')\n",
        "df_14 = SeriesToFrame('Dalby Hospital')\n",
        "df_15 = SeriesToFrame('Emerald Hospital')\n",
        "df_16 = SeriesToFrame('Goondiwindi Hospital')\n",
        "df_17 = SeriesToFrame('Ingham Hospital')\n",
        "df_18 = SeriesToFrame('Innisfail Hospital')\n",
        "df_19 = SeriesToFrame('Joyce Palmer Health Service')\n",
        "df_20 = SeriesToFrame('Kingaroy Hospital')\n",
        "df_21 = SeriesToFrame('Longreach Hospital')\n",
        "df_22 = SeriesToFrame('Oakey Hospital')\n",
        "df_23 = SeriesToFrame('Proserpine Hospital')\n",
        "df_24 = SeriesToFrame('Roma Hospital')\n",
        "df_25 = SeriesToFrame('St George Hospital')\n",
        "df_26 = SeriesToFrame('Stanthorpe Hospital')\n",
        "df_27 = SeriesToFrame('Thursday Island Hospital')\n",
        "df_28 = SeriesToFrame('WINTON  HOSPITAL')\n",
        "df_29 = SeriesToFrame('Warwick Hospital')\n",
        "df_30 = SeriesToFrame('Weipa Hospital')"
      ],
      "execution_count": 0,
      "outputs": []
    },
    {
      "cell_type": "code",
      "metadata": {
        "id": "MjQoVI1Y4o5X",
        "colab_type": "code",
        "colab": {}
      },
      "source": [
        "#Collecting all the dataframes in one df\n",
        "frames = [df_1,df_2,df_3,df_4,df_5,df_6,df_7,df_8,df_9,df_10,df_11,df_12,df_13,df_14,df_15,df_16,df_17,df_18,df_19,df_20,df_21,df_22,df_23,df_24,df_25,df_26,df_27,df_28,df_29,df_30]"
      ],
      "execution_count": 0,
      "outputs": []
    },
    {
      "cell_type": "code",
      "metadata": {
        "id": "53rGMy1VCUDW",
        "colab_type": "code",
        "colab": {}
      },
      "source": [
        "#Concatenationg all the dataframes\n",
        "result = pd.concat(frames,axis=1)"
      ],
      "execution_count": 0,
      "outputs": []
    },
    {
      "cell_type": "code",
      "metadata": {
        "id": "x5uNq8NWImFX",
        "colab_type": "code",
        "colab": {}
      },
      "source": [
        "#Replacing the negative values with the average of the column\n",
        "result['BARCALDINE HOSPITAL'][result['BARCALDINE HOSPITAL'] < 0 ] = result['BARCALDINE HOSPITAL'].mean()\n"
      ],
      "execution_count": 0,
      "outputs": []
    },
    {
      "cell_type": "code",
      "metadata": {
        "id": "V7lQBQJzJHXq",
        "colab_type": "code",
        "colab": {}
      },
      "source": [
        "#Replacing the negative values with the average of the column\n",
        "result['BLACKALL HOSPITAL'][result['BLACKALL HOSPITAL'] < 0 ] = result['BLACKALL HOSPITAL'].mean()\n"
      ],
      "execution_count": 0,
      "outputs": []
    },
    {
      "cell_type": "code",
      "metadata": {
        "id": "xY__XO-XJU3o",
        "colab_type": "code",
        "colab": {}
      },
      "source": [
        "#Saving the results to an excel file\n",
        "result.to_excel(\"Predictions.xlsx\",sheet_name='Sheet_name_1',index=False) "
      ],
      "execution_count": 0,
      "outputs": []
    }
  ]
}